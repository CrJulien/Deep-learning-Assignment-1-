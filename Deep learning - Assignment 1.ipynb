{
 "cells": [
  {
   "cell_type": "code",
   "execution_count": 374,
   "metadata": {},
   "outputs": [],
   "source": [
    "from keras.utils import to_categorical\n",
    "from keras.layers import Dense, Dropout\n",
    "from keras.layers import Conv2D, Flatten, MaxPool2D\n",
    "from keras.models import Sequential\n",
    "from keras.models import load_model\n",
    "from keras.utils import plot_model\n",
    "import matplotlib.pyplot as plt\n",
    "import matplotlib.cm as cm\n",
    "from keras.callbacks import EarlyStopping\n",
    "from keras.layers import BatchNormalization\n",
    "from keras.layers import Subtract\n",
    "from keras.models import Input, Model\n",
    "from keras.layers import UpSampling2D\n",
    "from sklearn.preprocessing import normalize"
   ]
  },
  {
   "cell_type": "code",
   "execution_count": 375,
   "metadata": {},
   "outputs": [
    {
     "data": {
      "image/png": "[encoded data removed]",
      "text/plain": [
       "<Figure size 432x288 with 1 Axes>"
      ]
     },
     "metadata": {},
     "output_type": "display_data"
    }
   ],
   "source": [
    "import matplotlib.pyplot as plt\n",
    "%matplotlib inline\n",
    "import numpy as np\n",
    "\n",
    "# On some implementations of matplotlib, you may need to change this value\n",
    "IMAGE_SIZE = 72\n",
    "\n",
    "def generate_a_drawing(figsize, U, V, noise=0.0):\n",
    "    fig = plt.figure(figsize=(figsize,figsize))\n",
    "    ax = plt.subplot(111)\n",
    "    plt.axis('Off')\n",
    "    ax.set_xlim(0,figsize)\n",
    "    ax.set_ylim(0,figsize)\n",
    "    ax.fill(U, V, \"k\")\n",
    "    fig.canvas.draw()\n",
    "    imdata = np.frombuffer(fig.canvas.tostring_rgb(), dtype=np.uint8)[::3].astype(np.float32)\n",
    "    imdata = imdata + noise * np.random.random(imdata.size)\n",
    "    plt.close(fig)\n",
    "    return imdata\n",
    "\n",
    "def generate_a_rectangle(noise=0.0, free_location=False):\n",
    "    figsize = 1.0    \n",
    "    U = np.zeros(4)\n",
    "    V = np.zeros(4)\n",
    "    if free_location:\n",
    "        corners = np.random.random(4)\n",
    "        top = max(corners[0], corners[1])\n",
    "        bottom = min(corners[0], corners[1])\n",
    "        left = min(corners[2], corners[3])\n",
    "        right = max(corners[2], corners[3])\n",
    "    else:\n",
    "        side = (0.3 + 0.7 * np.random.random()) * figsize\n",
    "        top = figsize/2 + side/2\n",
    "        bottom = figsize/2 - side/2\n",
    "        left = bottom\n",
    "        right = top\n",
    "    U[0] = U[1] = top\n",
    "    U[2] = U[3] = bottom\n",
    "    V[0] = V[3] = left\n",
    "    V[1] = V[2] = right\n",
    "    return generate_a_drawing(figsize, U, V, noise)\n",
    "\n",
    "\n",
    "def generate_a_disk(noise=0.0, free_location=False):\n",
    "    figsize = 1.0\n",
    "    if free_location:\n",
    "        center = np.random.random(2)\n",
    "    else:\n",
    "        center = (figsize/2, figsize/2)\n",
    "    radius = (0.3 + 0.7 * np.random.random()) * figsize/2\n",
    "    N = 50\n",
    "    U = np.zeros(N)\n",
    "    V = np.zeros(N)\n",
    "    i = 0\n",
    "    for t in np.linspace(0, 2*np.pi, N):\n",
    "        U[i] = center[0] + np.cos(t) * radius\n",
    "        V[i] = center[1] + np.sin(t) * radius\n",
    "        i = i + 1\n",
    "    return generate_a_drawing(figsize, U, V, noise)\n",
    "\n",
    "def generate_a_triangle(noise=0.0, free_location=False):\n",
    "    figsize = 1.0\n",
    "    if free_location:\n",
    "        U = np.random.random(3)\n",
    "        V = np.random.random(3)\n",
    "    else:\n",
    "        size = (0.3 + 0.7 * np.random.random())*figsize/2\n",
    "        middle = figsize/2\n",
    "        U = (middle, middle+size, middle-size)\n",
    "        V = (middle+size, middle-size, middle-size)\n",
    "    imdata = generate_a_drawing(figsize, U, V, noise)\n",
    "    return [imdata, [U[0], V[0], U[1], V[1], U[2], V[2]]]\n",
    "\n",
    "\n",
    "im = generate_a_rectangle(10, True)\n",
    "plt.imshow(im.reshape(IMAGE_SIZE,IMAGE_SIZE), cmap='gray')\n",
    "\n",
    "im = generate_a_disk(10)\n",
    "plt.imshow(im.reshape(IMAGE_SIZE,IMAGE_SIZE), cmap='gray')\n",
    "\n",
    "[im, v] = generate_a_triangle(20, False)\n",
    "plt.imshow(im.reshape(IMAGE_SIZE,IMAGE_SIZE), cmap='gray')\n",
    "\n",
    "\n",
    "def generate_dataset_classification(nb_samples, noise=0.0, free_location=False):\n",
    "    # Getting im_size:\n",
    "    im_size = generate_a_rectangle().shape[0]\n",
    "    X = np.zeros([nb_samples,im_size])\n",
    "    Y = np.zeros(nb_samples)\n",
    "    print('Creating data:')\n",
    "    for i in range(nb_samples):\n",
    "        if i % 10 == 0:\n",
    "            print(i)\n",
    "        category = np.random.randint(3)\n",
    "        if category == 0:\n",
    "            X[i] = generate_a_rectangle(noise, free_location)\n",
    "        elif category == 1: \n",
    "            X[i] = generate_a_disk(noise, free_location)\n",
    "        else:\n",
    "            [X[i], V] = generate_a_triangle(noise, free_location)\n",
    "        Y[i] = category\n",
    "    X = (X + noise) / (255 + 2 * noise)\n",
    "    return [X, Y]\n",
    "\n",
    "def generate_test_set_classification():\n",
    "    np.random.seed(42)\n",
    "    [X_test, Y_test] = generate_dataset_classification(300, 20, True)\n",
    "    Y_test = to_categorical(Y_test, 3) #np_utils. was removed\n",
    "    return [X_test, Y_test]\n",
    "\n",
    "def generate_dataset_regression(nb_samples, noise=0.0):\n",
    "    # Getting im_size:\n",
    "    im_size = generate_a_triangle()[0].shape[0]\n",
    "    X = np.zeros([nb_samples,im_size])\n",
    "    Y = np.zeros([nb_samples, 6])\n",
    "    print('Creating data:')\n",
    "    for i in range(nb_samples):\n",
    "        if i % 10 == 0:\n",
    "            print(i)\n",
    "        [X[i], Y[i]] = generate_a_triangle(noise, True)\n",
    "    X = (X + noise) / (255 + 2 * noise)\n",
    "    return [X, Y]\n",
    "\n",
    "import matplotlib.patches as patches\n",
    "\n",
    "def visualize_prediction(x, y):\n",
    "    fig, ax = plt.subplots(figsize=(5, 5))\n",
    "    I = x.reshape((IMAGE_SIZE,IMAGE_SIZE))\n",
    "    ax.imshow(I, extent=[-0.15,1.15,-0.15,1.15],cmap='gray')\n",
    "    ax.set_xlim([0,1])\n",
    "    ax.set_ylim([0,1])\n",
    "\n",
    "    xy = y.reshape(3,2)\n",
    "    tri = patches.Polygon(xy, closed=True, fill = False, edgecolor = 'r', linewidth = 5, alpha = 0.5)\n",
    "    ax.add_patch(tri)\n",
    "\n",
    "    plt.show()\n",
    "\n",
    "def generate_test_set_regression():\n",
    "    np.random.seed(42)\n",
    "    [X_test, Y_test] = generate_dataset_regression(300, 20)\n",
    "    return [X_test, Y_test]\n",
    "\n"
   ]
  },
  {
   "cell_type": "markdown",
   "metadata": {},
   "source": [
    "# 3. The SGD optimizer"
   ]
  },
  {
   "cell_type": "code",
   "execution_count": 376,
   "metadata": {},
   "outputs": [
    {
     "name": "stdout",
     "output_type": "stream",
     "text": [
      "Creating data:\n",
      "0\n",
      "10\n",
      "20\n",
      "30\n",
      "40\n",
      "50\n",
      "60\n",
      "70\n",
      "80\n",
      "90\n",
      "100\n",
      "110\n",
      "120\n",
      "130\n",
      "140\n",
      "150\n",
      "160\n",
      "170\n",
      "180\n",
      "190\n",
      "200\n",
      "210\n",
      "220\n",
      "230\n",
      "240\n",
      "250\n",
      "260\n",
      "270\n",
      "280\n",
      "290\n"
     ]
    }
   ],
   "source": [
    "#Generate a training set of images of simple geometric shapes (rectangle, disk, triangle) centered in the images\n",
    "[X_train, Y_train] = generate_dataset_classification(300, 20)"
   ]
  },
  {
   "cell_type": "code",
   "execution_count": 377,
   "metadata": {},
   "outputs": [
    {
     "name": "stdout",
     "output_type": "stream",
     "text": [
      "(300, 5184)\n"
     ]
    }
   ],
   "source": [
    "print(X_train.shape)"
   ]
  },
  {
   "cell_type": "code",
   "execution_count": 378,
   "metadata": {},
   "outputs": [],
   "source": [
    "#Transform the target to categorical \n",
    "Y_train = to_categorical(Y_train)\n",
    "\n",
    "#Choose an easy model with a linear stack of layers\n",
    "model = Sequential() #no jump of layers, each node goes through all the layers\n",
    "\n",
    "n_cols = X_train.shape[1] #find out input shape\n",
    "\n",
    "#Dense - all the nodes from the previous layer connect to all the nodes of the following layer\n",
    "model.add(Dense(72, activation='relu',  input_shape=(n_cols,)))\n",
    "model.add(Dense(3, activation = 'softmax',input_shape=(n_cols,)))\n",
    "\n",
    "#Configure it's learning process through the function compile\n",
    "model.compile(loss='categorical_crossentropy', \n",
    "              optimizer='sgd', #sgd stands for Stochstic Gradient Descent\n",
    "              metrics=['accuracy'])"
   ]
  },
  {
   "cell_type": "code",
   "execution_count": 379,
   "metadata": {},
   "outputs": [
    {
     "name": "stdout",
     "output_type": "stream",
     "text": [
      "Train on 210 samples, validate on 90 samples\n",
      "Epoch 1/100\n",
      "210/210 [==============================] - 10s 48ms/step - loss: 3.2386 - acc: 0.3381 - val_loss: 1.0808 - val_acc: 0.3444\n",
      "Epoch 2/100\n",
      "210/210 [==============================] - 0s 904us/step - loss: 1.0880 - acc: 0.3429 - val_loss: 1.0556 - val_acc: 0.5000\n",
      "Epoch 3/100\n",
      "210/210 [==============================] - 0s 819us/step - loss: 1.0457 - acc: 0.5476 - val_loss: 1.0431 - val_acc: 0.6000\n",
      "Epoch 4/100\n",
      "210/210 [==============================] - 0s 828us/step - loss: 1.0172 - acc: 0.5952 - val_loss: 1.0317 - val_acc: 0.5222\n",
      "Epoch 5/100\n",
      "210/210 [==============================] - 0s 947us/step - loss: 0.9943 - acc: 0.6095 - val_loss: 0.9804 - val_acc: 0.6000\n",
      "Epoch 6/100\n",
      "210/210 [==============================] - 0s 776us/step - loss: 0.9510 - acc: 0.6238 - val_loss: 0.9403 - val_acc: 0.6222\n",
      "Epoch 7/100\n",
      "210/210 [==============================] - 0s 1ms/step - loss: 0.9346 - acc: 0.5857 - val_loss: 0.9136 - val_acc: 0.4778\n",
      "Epoch 8/100\n",
      "210/210 [==============================] - 0s 1ms/step - loss: 0.8640 - acc: 0.6952 - val_loss: 0.8993 - val_acc: 0.5444\n",
      "Epoch 9/100\n",
      "210/210 [==============================] - 0s 961us/step - loss: 0.8170 - acc: 0.7000 - val_loss: 0.8444 - val_acc: 0.6111\n",
      "Epoch 10/100\n",
      "210/210 [==============================] - 0s 942us/step - loss: 0.7638 - acc: 0.7000 - val_loss: 0.7665 - val_acc: 0.7444\n",
      "Epoch 11/100\n",
      "210/210 [==============================] - 0s 885us/step - loss: 0.7364 - acc: 0.7143 - val_loss: 0.9401 - val_acc: 0.4778\n",
      "Epoch 12/100\n",
      "210/210 [==============================] - 0s 966us/step - loss: 0.7866 - acc: 0.6333 - val_loss: 0.7416 - val_acc: 0.6444\n",
      "Epoch 13/100\n",
      "210/210 [==============================] - 0s 709us/step - loss: 0.7683 - acc: 0.6476 - val_loss: 0.6545 - val_acc: 0.7222\n",
      "Epoch 14/100\n",
      "210/210 [==============================] - 0s 809us/step - loss: 0.6016 - acc: 0.7952 - val_loss: 0.8678 - val_acc: 0.5778\n",
      "Epoch 15/100\n",
      "210/210 [==============================] - 0s 557us/step - loss: 0.6736 - acc: 0.7190 - val_loss: 0.6315 - val_acc: 0.7222\n",
      "Epoch 16/100\n",
      "210/210 [==============================] - 0s 547us/step - loss: 0.5470 - acc: 0.8190 - val_loss: 0.6352 - val_acc: 0.6778\n",
      "Epoch 17/100\n",
      "210/210 [==============================] - 0s 504us/step - loss: 0.5636 - acc: 0.7238 - val_loss: 0.5551 - val_acc: 0.7333\n",
      "Epoch 18/100\n",
      "210/210 [==============================] - 0s 685us/step - loss: 0.6701 - acc: 0.7286 - val_loss: 0.5445 - val_acc: 0.7556\n",
      "Epoch 19/100\n",
      "210/210 [==============================] - 0s 609us/step - loss: 0.4884 - acc: 0.8381 - val_loss: 0.5413 - val_acc: 0.7444\n",
      "Epoch 20/100\n",
      "210/210 [==============================] - 0s 495us/step - loss: 0.4784 - acc: 0.8095 - val_loss: 0.5931 - val_acc: 0.6556\n",
      "Epoch 21/100\n",
      "210/210 [==============================] - 0s 476us/step - loss: 0.4792 - acc: 0.7952 - val_loss: 0.5505 - val_acc: 0.7444\n",
      "Epoch 22/100\n",
      "210/210 [==============================] - 0s 462us/step - loss: 0.5223 - acc: 0.7524 - val_loss: 0.5008 - val_acc: 0.6667\n",
      "Epoch 23/100\n",
      "210/210 [==============================] - 0s 485us/step - loss: 0.4449 - acc: 0.7952 - val_loss: 0.5016 - val_acc: 0.7667\n",
      "Epoch 24/100\n",
      "210/210 [==============================] - 0s 595us/step - loss: 0.4198 - acc: 0.8429 - val_loss: 0.4770 - val_acc: 0.7778\n",
      "Epoch 25/100\n",
      "210/210 [==============================] - 0s 538us/step - loss: 0.4264 - acc: 0.8333 - val_loss: 0.4928 - val_acc: 0.7889\n",
      "Epoch 26/100\n",
      "210/210 [==============================] - 0s 562us/step - loss: 0.4080 - acc: 0.8143 - val_loss: 0.5469 - val_acc: 0.7444\n",
      "Epoch 27/100\n",
      "210/210 [==============================] - 0s 538us/step - loss: 0.3905 - acc: 0.8524 - val_loss: 0.4586 - val_acc: 0.6556\n",
      "Epoch 28/100\n",
      "210/210 [==============================] - 0s 509us/step - loss: 0.3969 - acc: 0.8333 - val_loss: 0.4825 - val_acc: 0.7444\n",
      "Epoch 29/100\n",
      "210/210 [==============================] - 0s 490us/step - loss: 0.3697 - acc: 0.8524 - val_loss: 0.4348 - val_acc: 0.7444\n",
      "Epoch 30/100\n",
      "210/210 [==============================] - 0s 514us/step - loss: 0.3689 - acc: 0.8476 - val_loss: 0.4016 - val_acc: 0.8889\n",
      "Epoch 31/100\n",
      "210/210 [==============================] - 0s 457us/step - loss: 0.3499 - acc: 0.8714 - val_loss: 0.4787 - val_acc: 0.7444\n",
      "Epoch 32/100\n",
      "210/210 [==============================] - 0s 466us/step - loss: 0.4222 - acc: 0.7619 - val_loss: 0.4293 - val_acc: 0.7778\n",
      "Epoch 33/100\n",
      "210/210 [==============================] - 0s 466us/step - loss: 0.3492 - acc: 0.8571 - val_loss: 0.4126 - val_acc: 0.7111\n"
     ]
    },
    {
     "data": {
      "text/plain": [
       "<keras.callbacks.History at 0x1c515a53160>"
      ]
     },
     "execution_count": 379,
     "metadata": {},
     "output_type": "execute_result"
    }
   ],
   "source": [
    "#fit the model \n",
    "early_stopping = EarlyStopping(patience = 3)\n",
    "model.fit(X_train, Y_train, epochs=100, batch_size=32, validation_split = 0.3, callbacks = [early_stopping])"
   ]
  },
  {
   "cell_type": "code",
   "execution_count": 380,
   "metadata": {},
   "outputs": [
    {
     "name": "stdout",
     "output_type": "stream",
     "text": [
      "Creating data:\n",
      "0\n",
      "10\n",
      "20\n",
      "30\n",
      "40\n",
      "50\n",
      "60\n",
      "70\n",
      "80\n",
      "90\n",
      "100\n",
      "110\n",
      "120\n",
      "130\n",
      "140\n",
      "150\n",
      "160\n",
      "170\n",
      "180\n",
      "190\n",
      "200\n",
      "210\n",
      "220\n",
      "230\n",
      "240\n",
      "250\n",
      "260\n",
      "270\n",
      "280\n",
      "290\n"
     ]
    }
   ],
   "source": [
    "#generate testing set\n",
    "[X_test, Y_test] = generate_dataset_regression(300, 20)"
   ]
  },
  {
   "cell_type": "code",
   "execution_count": 381,
   "metadata": {},
   "outputs": [
    {
     "data": {
      "text/plain": [
       "array([[1., 0., 0.]], dtype=float32)"
      ]
     },
     "execution_count": 381,
     "metadata": {},
     "output_type": "execute_result"
    }
   ],
   "source": [
    "#Testing the model\n",
    "X_test = generate_a_disk()\n",
    "X_test = X_test.reshape(1, X_test.shape[0])\n",
    "model.predict(X_test)"
   ]
  },
  {
   "cell_type": "markdown",
   "metadata": {},
   "source": [
    "# 3. The Adam optimizer"
   ]
  },
  {
   "cell_type": "code",
   "execution_count": 382,
   "metadata": {},
   "outputs": [
    {
     "name": "stdout",
     "output_type": "stream",
     "text": [
      "Creating data:\n",
      "0\n",
      "10\n",
      "20\n",
      "30\n",
      "40\n",
      "50\n",
      "60\n",
      "70\n",
      "80\n",
      "90\n",
      "100\n",
      "110\n",
      "120\n",
      "130\n",
      "140\n",
      "150\n",
      "160\n",
      "170\n",
      "180\n",
      "190\n",
      "200\n",
      "210\n",
      "220\n",
      "230\n",
      "240\n",
      "250\n",
      "260\n",
      "270\n",
      "280\n",
      "290\n"
     ]
    }
   ],
   "source": [
    "#Generate a training set of images of simple geometric shapes (rectangle, disk, triangle) centered in the images\n",
    "[X_train, Y_train] = generate_dataset_classification(300, 20)"
   ]
  },
  {
   "cell_type": "code",
   "execution_count": 383,
   "metadata": {},
   "outputs": [],
   "source": [
    "#Transform the target to categorical \n",
    "Y_train = to_categorical(Y_train)\n",
    "\n",
    "#Choose an easy model with a linear stack of layers\n",
    "model_adam = Sequential() #no jump of layers, each node goes through all the layers\n",
    "\n",
    "n_cols = X_train.shape[1] #find out input shape\n",
    "\n",
    "#Dense - all the nodes from the previous layer connect to all the nodes of the following layer\n",
    "model_adam.add(Dense(72, activation='relu',  input_shape=(n_cols,)))\n",
    "model_adam.add(Dense(3, activation = 'softmax'))\n",
    "\n",
    "#Configure it's learning process through the function compile\n",
    "model_adam.compile(loss='categorical_crossentropy', \n",
    "              optimizer='adam', \n",
    "              metrics=['accuracy'])"
   ]
  },
  {
   "cell_type": "code",
   "execution_count": 384,
   "metadata": {},
   "outputs": [
    {
     "name": "stdout",
     "output_type": "stream",
     "text": [
      "Train on 210 samples, validate on 90 samples\n",
      "Epoch 1/100\n",
      "210/210 [==============================] - 7s 36ms/step - loss: 3.2046 - acc: 0.3952 - val_loss: 1.3114 - val_acc: 0.3778\n",
      "Epoch 2/100\n",
      "210/210 [==============================] - 0s 1ms/step - loss: 1.2720 - acc: 0.5286 - val_loss: 0.8880 - val_acc: 0.6556\n",
      "Epoch 3/100\n",
      "210/210 [==============================] - 0s 952us/step - loss: 0.8190 - acc: 0.5619 - val_loss: 0.8533 - val_acc: 0.6667\n",
      "Epoch 4/100\n",
      "210/210 [==============================] - 0s 899us/step - loss: 0.6128 - acc: 0.7333 - val_loss: 0.6167 - val_acc: 0.6778\n",
      "Epoch 5/100\n",
      "210/210 [==============================] - 0s 942us/step - loss: 0.5117 - acc: 0.7095 - val_loss: 0.5516 - val_acc: 0.6778\n",
      "Epoch 6/100\n",
      "210/210 [==============================] - 0s 823us/step - loss: 0.4259 - acc: 0.8333 - val_loss: 0.4554 - val_acc: 0.8778\n",
      "Epoch 7/100\n",
      "210/210 [==============================] - 0s 781us/step - loss: 0.3797 - acc: 0.9476 - val_loss: 0.4495 - val_acc: 0.7667\n",
      "Epoch 8/100\n",
      "210/210 [==============================] - 0s 823us/step - loss: 0.3355 - acc: 0.9429 - val_loss: 0.3822 - val_acc: 0.8778\n",
      "Epoch 9/100\n",
      "210/210 [==============================] - 0s 719us/step - loss: 0.3013 - acc: 0.9810 - val_loss: 0.3814 - val_acc: 0.7556\n",
      "Epoch 10/100\n",
      "210/210 [==============================] - 0s 709us/step - loss: 0.2992 - acc: 0.9095 - val_loss: 0.3421 - val_acc: 0.9333\n",
      "Epoch 11/100\n",
      "210/210 [==============================] - 0s 685us/step - loss: 0.2895 - acc: 0.8762 - val_loss: 0.3457 - val_acc: 0.8111\n",
      "Epoch 12/100\n",
      "210/210 [==============================] - 0s 719us/step - loss: 0.2661 - acc: 0.9238 - val_loss: 0.3249 - val_acc: 0.8111\n",
      "Epoch 13/100\n",
      "210/210 [==============================] - 0s 747us/step - loss: 0.2238 - acc: 0.9619 - val_loss: 0.2753 - val_acc: 0.9889\n",
      "Epoch 14/100\n",
      "210/210 [==============================] - 0s 752us/step - loss: 0.1983 - acc: 0.9905 - val_loss: 0.2605 - val_acc: 0.9889\n",
      "Epoch 15/100\n",
      "210/210 [==============================] - 0s 681us/step - loss: 0.1861 - acc: 0.9857 - val_loss: 0.2794 - val_acc: 0.8778\n",
      "Epoch 16/100\n",
      "210/210 [==============================] - 0s 723us/step - loss: 0.1764 - acc: 0.9762 - val_loss: 0.2568 - val_acc: 0.9222\n",
      "Epoch 17/100\n",
      "210/210 [==============================] - 0s 685us/step - loss: 0.1663 - acc: 0.9857 - val_loss: 0.2194 - val_acc: 0.9778\n",
      "Epoch 18/100\n",
      "210/210 [==============================] - 0s 695us/step - loss: 0.1497 - acc: 0.9952 - val_loss: 0.2449 - val_acc: 0.8889\n",
      "Epoch 19/100\n",
      "210/210 [==============================] - 0s 676us/step - loss: 0.1456 - acc: 0.9905 - val_loss: 0.2080 - val_acc: 0.9778\n",
      "Epoch 20/100\n",
      "210/210 [==============================] - 0s 681us/step - loss: 0.1293 - acc: 1.0000 - val_loss: 0.1836 - val_acc: 0.9889\n",
      "Epoch 21/100\n",
      "210/210 [==============================] - 0s 690us/step - loss: 0.1166 - acc: 0.9952 - val_loss: 0.1805 - val_acc: 1.0000\n",
      "Epoch 22/100\n",
      "210/210 [==============================] - 0s 685us/step - loss: 0.1128 - acc: 1.0000 - val_loss: 0.2331 - val_acc: 0.9111\n",
      "Epoch 23/100\n",
      "210/210 [==============================] - 0s 666us/step - loss: 0.1210 - acc: 1.0000 - val_loss: 0.1674 - val_acc: 0.9778\n",
      "Epoch 24/100\n",
      "210/210 [==============================] - 0s 666us/step - loss: 0.1261 - acc: 0.9905 - val_loss: 0.1817 - val_acc: 0.9222\n",
      "Epoch 25/100\n",
      "210/210 [==============================] - 0s 647us/step - loss: 0.1087 - acc: 0.9905 - val_loss: 0.1515 - val_acc: 1.0000\n",
      "Epoch 26/100\n",
      "210/210 [==============================] - 0s 662us/step - loss: 0.1035 - acc: 0.9905 - val_loss: 0.1349 - val_acc: 0.9889\n",
      "Epoch 27/100\n",
      "210/210 [==============================] - 0s 671us/step - loss: 0.0875 - acc: 0.9905 - val_loss: 0.2014 - val_acc: 0.9111\n",
      "Epoch 28/100\n",
      "210/210 [==============================] - 0s 704us/step - loss: 0.1079 - acc: 0.9810 - val_loss: 0.2494 - val_acc: 0.9111\n",
      "Epoch 29/100\n",
      "210/210 [==============================] - 0s 662us/step - loss: 0.1267 - acc: 0.9810 - val_loss: 0.1264 - val_acc: 1.0000\n",
      "Epoch 30/100\n",
      "210/210 [==============================] - 0s 685us/step - loss: 0.0756 - acc: 0.9857 - val_loss: 0.1144 - val_acc: 1.0000\n",
      "Epoch 31/100\n",
      "210/210 [==============================] - 0s 685us/step - loss: 0.0683 - acc: 1.0000 - val_loss: 0.1095 - val_acc: 0.9889\n",
      "Epoch 32/100\n",
      "210/210 [==============================] - 0s 685us/step - loss: 0.0649 - acc: 1.0000 - val_loss: 0.1289 - val_acc: 0.9778\n",
      "Epoch 33/100\n",
      "210/210 [==============================] - 0s 723us/step - loss: 0.0630 - acc: 1.0000 - val_loss: 0.0949 - val_acc: 0.9889\n",
      "Epoch 34/100\n",
      "210/210 [==============================] - 0s 776us/step - loss: 0.0553 - acc: 0.9952 - val_loss: 0.1212 - val_acc: 1.0000\n",
      "Epoch 35/100\n",
      "210/210 [==============================] - 0s 681us/step - loss: 0.0735 - acc: 0.9857 - val_loss: 0.1042 - val_acc: 0.9778\n",
      "Epoch 36/100\n",
      "210/210 [==============================] - 0s 695us/step - loss: 0.0552 - acc: 1.0000 - val_loss: 0.1068 - val_acc: 0.9778\n"
     ]
    },
    {
     "data": {
      "text/plain": [
       "<keras.callbacks.History at 0x1c52183ae10>"
      ]
     },
     "execution_count": 384,
     "metadata": {},
     "output_type": "execute_result"
    }
   ],
   "source": [
    "#fit the model \n",
    "model_adam.fit(X_train, Y_train, epochs=100, batch_size=32, validation_split = 0.3, callbacks = [early_stopping])"
   ]
  },
  {
   "cell_type": "code",
   "execution_count": 385,
   "metadata": {},
   "outputs": [
    {
     "data": {
      "text/plain": [
       "array([[0., 1., 0.]], dtype=float32)"
      ]
     },
     "execution_count": 385,
     "metadata": {},
     "output_type": "execute_result"
    }
   ],
   "source": [
    "#An example of how to check the classifier\n",
    "X_test = generate_a_disk()\n",
    "X_test = X_test.reshape(1, X_test.shape[0])\n",
    "model_adam.predict(X_test)"
   ]
  },
  {
   "cell_type": "markdown",
   "metadata": {},
   "source": [
    "# 4 Visualization of the solution"
   ]
  },
  {
   "cell_type": "code",
   "execution_count": 386,
   "metadata": {},
   "outputs": [],
   "source": [
    "#Visualization of the solution with the adam optimizer\n",
    "visu = model_adam.get_weights()[0]\n",
    "\n",
    "#Divide the weights to vizualise each column as an image\n",
    "array_1 = visu[:,0]\n",
    "array_2 = visu[:,1]\n",
    "array_3 = visu[:,2]"
   ]
  },
  {
   "cell_type": "code",
   "execution_count": 387,
   "metadata": {},
   "outputs": [
    {
     "data": {
      "image/png": "[encoded data removed]",
      "text/plain": [
       "<Figure size 432x288 with 1 Axes>"
      ]
     },
     "metadata": {},
     "output_type": "display_data"
    }
   ],
   "source": [
    "#Visualize the first column\n",
    "plt.imshow(array_1.reshape(IMAGE_SIZE,IMAGE_SIZE), cmap = cm.Greys)\n",
    "plt.show()"
   ]
  },
  {
   "cell_type": "code",
   "execution_count": 388,
   "metadata": {},
   "outputs": [
    {
     "data": {
      "image/png": "[encoded data removed]",
      "text/plain": [
       "<Figure size 432x288 with 1 Axes>"
      ]
     },
     "metadata": {},
     "output_type": "display_data"
    }
   ],
   "source": [
    "#Visualize the second column\n",
    "plt.imshow(array_2.reshape(IMAGE_SIZE,IMAGE_SIZE), cmap = cm.Greys)\n",
    "plt.show()"
   ]
  },
  {
   "cell_type": "code",
   "execution_count": 389,
   "metadata": {},
   "outputs": [
    {
     "data": {
      "image/png": "[encoded data removed]",
      "text/plain": [
       "<Figure size 432x288 with 1 Axes>"
      ]
     },
     "metadata": {},
     "output_type": "display_data"
    }
   ],
   "source": [
    "#Visualize the third column\n",
    "plt.imshow(array_3.reshape(IMAGE_SIZE,IMAGE_SIZE), cmap = cm.Greys)\n",
    "plt.show()"
   ]
  },
  {
   "cell_type": "markdown",
   "metadata": {},
   "source": [
    "# 5. A more difficult classification problem"
   ]
  },
  {
   "cell_type": "code",
   "execution_count": 390,
   "metadata": {},
   "outputs": [
    {
     "name": "stdout",
     "output_type": "stream",
     "text": [
      "Creating data:\n",
      "0\n",
      "10\n",
      "20\n",
      "30\n",
      "40\n",
      "50\n",
      "60\n",
      "70\n",
      "80\n",
      "90\n",
      "100\n",
      "110\n",
      "120\n",
      "130\n",
      "140\n",
      "150\n",
      "160\n",
      "170\n",
      "180\n",
      "190\n",
      "200\n",
      "210\n",
      "220\n",
      "230\n",
      "240\n",
      "250\n",
      "260\n",
      "270\n",
      "280\n",
      "290\n",
      "300\n",
      "310\n",
      "320\n",
      "330\n",
      "340\n",
      "350\n",
      "360\n",
      "370\n",
      "380\n",
      "390\n",
      "400\n",
      "410\n",
      "420\n",
      "430\n",
      "440\n",
      "450\n",
      "460\n",
      "470\n",
      "480\n",
      "490\n",
      "500\n",
      "510\n",
      "520\n",
      "530\n",
      "540\n",
      "550\n",
      "560\n",
      "570\n",
      "580\n",
      "590\n",
      "600\n",
      "610\n",
      "620\n",
      "630\n",
      "640\n",
      "650\n",
      "660\n",
      "670\n",
      "680\n",
      "690\n",
      "700\n",
      "710\n",
      "720\n",
      "730\n",
      "740\n"
     ]
    }
   ],
   "source": [
    "#Generate the training set\n",
    "[X_train, Y_train] = generate_dataset_classification(750, 20, True)"
   ]
  },
  {
   "cell_type": "code",
   "execution_count": 391,
   "metadata": {},
   "outputs": [
    {
     "name": "stdout",
     "output_type": "stream",
     "text": [
      "(750, 5184)\n"
     ]
    }
   ],
   "source": [
    "print(X_train.shape)"
   ]
  },
  {
   "cell_type": "code",
   "execution_count": 392,
   "metadata": {},
   "outputs": [
    {
     "name": "stdout",
     "output_type": "stream",
     "text": [
      "(750, 72, 72, 1)\n",
      "72 72\n"
     ]
    }
   ],
   "source": [
    "#Reshape the data\n",
    "X_train = X_train.reshape([-1,72,72,1])\n",
    "print(X_train.shape)\n",
    "n_cols = X_train.shape[1] \n",
    "n_rows = X_train.shape[2]\n",
    "print(n_cols, n_rows)"
   ]
  },
  {
   "cell_type": "code",
   "execution_count": 393,
   "metadata": {},
   "outputs": [],
   "source": [
    "#Transform the target to categorical \n",
    "Y_train = to_categorical(Y_train)\n",
    "\n",
    "#Initialise the model\n",
    "model_conv = Sequential() \n",
    "\n",
    "#Add a convolutional layer\n",
    "model_conv.add(Conv2D(16, kernel_size = 5, activation='relu',  input_shape = (n_cols,n_rows,1)))\n",
    "\n",
    "#Add a pooling layer\n",
    "model_conv.add(MaxPool2D(2))\n",
    "\n",
    "#Add a second convolutional layer\n",
    "model_conv.add(Conv2D(16, kernel_size = 5, activation='relu'))\n",
    "\n",
    "#Add a second pooling layer\n",
    "model_conv.add(MaxPool2D(2))\n",
    "\n",
    "model_conv.add(Flatten()) #Connect convolutional layer to dense layer\n",
    "\n",
    "model_conv.add(Dense(3, activation = 'softmax')) #Output layer\n",
    "\n",
    "#Configure it's learning process through the function compile\n",
    "model_conv.compile(loss='categorical_crossentropy', \n",
    "              optimizer='adam', \n",
    "              metrics=['accuracy'])"
   ]
  },
  {
   "cell_type": "code",
   "execution_count": 394,
   "metadata": {},
   "outputs": [
    {
     "name": "stdout",
     "output_type": "stream",
     "text": [
      "Train on 525 samples, validate on 225 samples\n",
      "Epoch 1/100\n",
      "525/525 [==============================] - 12s 24ms/step - loss: 1.0817 - acc: 0.4171 - val_loss: 1.0863 - val_acc: 0.5111\n",
      "Epoch 2/100\n",
      "525/525 [==============================] - 4s 8ms/step - loss: 0.9396 - acc: 0.6057 - val_loss: 0.8515 - val_acc: 0.7022\n",
      "Epoch 3/100\n",
      "525/525 [==============================] - 4s 8ms/step - loss: 0.7554 - acc: 0.7086 - val_loss: 0.7605 - val_acc: 0.6622\n",
      "Epoch 4/100\n",
      "525/525 [==============================] - 4s 8ms/step - loss: 0.6449 - acc: 0.7371 - val_loss: 0.6378 - val_acc: 0.7733\n",
      "Epoch 5/100\n",
      "525/525 [==============================] - 4s 8ms/step - loss: 0.5559 - acc: 0.8038 - val_loss: 0.6327 - val_acc: 0.7511\n",
      "Epoch 6/100\n",
      "525/525 [==============================] - 4s 8ms/step - loss: 0.5385 - acc: 0.8000 - val_loss: 0.6801 - val_acc: 0.7111\n",
      "Epoch 7/100\n",
      "525/525 [==============================] - 5s 9ms/step - loss: 0.5242 - acc: 0.8095 - val_loss: 0.6111 - val_acc: 0.7556\n",
      "Epoch 8/100\n",
      "525/525 [==============================] - 5s 9ms/step - loss: 0.4243 - acc: 0.8571 - val_loss: 0.5535 - val_acc: 0.7778\n",
      "Epoch 9/100\n",
      "525/525 [==============================] - 5s 9ms/step - loss: 0.3842 - acc: 0.8781 - val_loss: 0.6070 - val_acc: 0.7689\n",
      "Epoch 10/100\n",
      "525/525 [==============================] - 5s 9ms/step - loss: 0.3925 - acc: 0.8533 - val_loss: 0.5606 - val_acc: 0.7911\n",
      "_________________________________________________________________\n",
      "Layer (type)                 Output Shape              Param #   \n",
      "=================================================================\n",
      "conv2d_124 (Conv2D)          (None, 68, 68, 16)        416       \n",
      "_________________________________________________________________\n",
      "max_pooling2d_60 (MaxPooling (None, 34, 34, 16)        0         \n",
      "_________________________________________________________________\n",
      "conv2d_125 (Conv2D)          (None, 30, 30, 16)        6416      \n",
      "_________________________________________________________________\n",
      "max_pooling2d_61 (MaxPooling (None, 15, 15, 16)        0         \n",
      "_________________________________________________________________\n",
      "flatten_29 (Flatten)         (None, 3600)              0         \n",
      "_________________________________________________________________\n",
      "dense_56 (Dense)             (None, 3)                 10803     \n",
      "=================================================================\n",
      "Total params: 17,635\n",
      "Trainable params: 17,635\n",
      "Non-trainable params: 0\n",
      "_________________________________________________________________\n"
     ]
    }
   ],
   "source": [
    "#fit the model \n",
    "early_stopping = EarlyStopping(patience = 2)\n",
    "model_conv.fit(X_train, Y_train, epochs=100, batch_size = 32,validation_split = 0.3, callbacks = [early_stopping])\n",
    "model_conv.summary()"
   ]
  },
  {
   "cell_type": "code",
   "execution_count": 395,
   "metadata": {},
   "outputs": [
    {
     "name": "stdout",
     "output_type": "stream",
     "text": [
      "Creating data:\n",
      "0\n",
      "10\n",
      "20\n",
      "30\n",
      "40\n",
      "50\n",
      "60\n",
      "70\n",
      "80\n",
      "90\n",
      "100\n",
      "110\n",
      "120\n",
      "130\n",
      "140\n",
      "150\n",
      "160\n",
      "170\n",
      "180\n",
      "190\n",
      "200\n",
      "210\n",
      "220\n",
      "230\n",
      "240\n",
      "250\n",
      "260\n",
      "270\n",
      "280\n",
      "290\n"
     ]
    }
   ],
   "source": [
    "#Generate test set\n",
    "[X_test, Y_test] = generate_test_set_classification()"
   ]
  },
  {
   "cell_type": "code",
   "execution_count": 396,
   "metadata": {},
   "outputs": [
    {
     "name": "stdout",
     "output_type": "stream",
     "text": [
      "300/300 [==============================] - 2s 6ms/step\n"
     ]
    },
    {
     "data": {
      "text/plain": [
       "[0.5285780866940816, 0.7999999992052714]"
      ]
     },
     "execution_count": 396,
     "metadata": {},
     "output_type": "execute_result"
    }
   ],
   "source": [
    "#Reshape the data\n",
    "X_test = X_test.reshape([-1,72,72,1])\n",
    "\n",
    "#Evaluate test set\n",
    "model_conv.evaluate(X_test, Y_test)"
   ]
  },
  {
   "cell_type": "markdown",
   "metadata": {},
   "source": [
    "# 6. A Regression Problem"
   ]
  },
  {
   "cell_type": "code",
   "execution_count": 333,
   "metadata": {},
   "outputs": [
    {
     "name": "stdout",
     "output_type": "stream",
     "text": [
      "Creating data:\n",
      "0\n",
      "10\n",
      "20\n",
      "30\n",
      "40\n",
      "50\n",
      "60\n",
      "70\n",
      "80\n",
      "90\n",
      "100\n",
      "110\n",
      "120\n",
      "130\n",
      "140\n",
      "150\n",
      "160\n",
      "170\n",
      "180\n",
      "190\n",
      "200\n",
      "210\n",
      "220\n",
      "230\n",
      "240\n",
      "250\n",
      "260\n",
      "270\n",
      "280\n",
      "290\n",
      "300\n",
      "310\n",
      "320\n",
      "330\n",
      "340\n",
      "350\n",
      "360\n",
      "370\n",
      "380\n",
      "390\n",
      "400\n",
      "410\n",
      "420\n",
      "430\n",
      "440\n",
      "450\n",
      "460\n",
      "470\n",
      "480\n",
      "490\n"
     ]
    }
   ],
   "source": [
    "[X_train, Y_train] = generate_dataset_regression(500, 20)"
   ]
  },
  {
   "cell_type": "code",
   "execution_count": 334,
   "metadata": {},
   "outputs": [
    {
     "data": {
      "image/png": "[encoded data removed]",
      "text/plain": [
       "<Figure size 360x360 with 1 Axes>"
      ]
     },
     "metadata": {},
     "output_type": "display_data"
    }
   ],
   "source": [
    "visualize_prediction(X_train[0], Y_train[0])"
   ]
  },
  {
   "cell_type": "code",
   "execution_count": 353,
   "metadata": {},
   "outputs": [],
   "source": [
    "#Reshape X_train\n",
    "X_train = X_train.reshape([-1, 72,72,1])\n",
    "\n",
    "#Here several different combinations of neurons/layers were tried \n",
    "model_r = Sequential() #Initialise the model\n",
    "model_r.add(Conv2D(32, kernel_size = 5, activation='relu',  input_shape = (72,72,1)))\n",
    "model_r.add(MaxPooling2D(2))\n",
    "model_r.add(Conv2D(16, kernel_size = 5, activation='relu',  input_shape = (72,72,1)))\n",
    "model_r.add(MaxPool2D(2))\n",
    "model_r.add(Conv2D(16, kernel_size = 5, activation='relu',  input_shape = (72,72,1)))\n",
    "#model_r.add(Conv2D(16, kernel_size = 5, activation='relu',  input_shape = (72,72,1)))\n",
    "model_r.add(Flatten())\n",
    "#model_r.add(Dense(16, activation = 'relu')) #,input_dim = X_train.shape[1]))\n",
    "#model_r.add(Dense(16, activation = 'relu'))\n",
    "#model_r.add(BatchNormalization()) #Batch normalize\n",
    "#model_r.add(Dropout(0.2))\n",
    "model_r.add(Dense(6,)) #output layer\n",
    "\n",
    "\n",
    "model_r.compile(loss='mean_squared_error',  optimizer='adam', metrics=['mean_absolute_error'])"
   ]
  },
  {
   "cell_type": "code",
   "execution_count": 354,
   "metadata": {},
   "outputs": [],
   "source": [
    "Y_train = normalize(Y_train)"
   ]
  },
  {
   "cell_type": "code",
   "execution_count": 355,
   "metadata": {},
   "outputs": [
    {
     "name": "stdout",
     "output_type": "stream",
     "text": [
      "Epoch 1/10\n",
      "500/500 [==============================] - 16s 33ms/step - loss: 0.0604 - mean_absolute_error: 0.3401\n",
      "Epoch 2/10\n",
      "500/500 [==============================] - 6s 13ms/step - loss: 0.0517 - mean_absolute_error: 0.2956\n",
      "Epoch 3/10\n",
      "500/500 [==============================] - 7s 15ms/step - loss: 0.0505 - mean_absolute_error: 0.3109\n",
      "Epoch 4/10\n",
      "500/500 [==============================] - 6s 12ms/step - loss: 0.0499 - mean_absolute_error: 0.3127\n",
      "Epoch 5/10\n",
      "500/500 [==============================] - 6s 12ms/step - loss: 0.0377 - mean_absolute_error: 0.2628\n",
      "Epoch 6/10\n",
      "500/500 [==============================] - 6s 12ms/step - loss: 0.0345 - mean_absolute_error: 0.2360\n",
      "Epoch 7/10\n",
      "500/500 [==============================] - 7s 13ms/step - loss: 0.0334 - mean_absolute_error: 0.2272\n",
      "Epoch 8/10\n",
      "500/500 [==============================] - 7s 14ms/step - loss: 0.0328 - mean_absolute_error: 0.2304\n",
      "Epoch 9/10\n",
      "500/500 [==============================] - 6s 13ms/step - loss: 0.0321 - mean_absolute_error: 0.2239\n",
      "Epoch 10/10\n",
      "500/500 [==============================] - 7s 14ms/step - loss: 0.0314 - mean_absolute_error: 0.2183\n"
     ]
    }
   ],
   "source": [
    "training = model_r.fit(X_train, Y_train, epochs = 10, batch_size = 32)#, validation_split = 0.2, callbacks = [early_stopping])"
   ]
  },
  {
   "cell_type": "code",
   "execution_count": 356,
   "metadata": {},
   "outputs": [],
   "source": [
    "#Plot te loss function of the training set vs the validation set see if the model is overfitting\n",
    "#plt.plot(training.history['loss'])\n",
    "#plt.plot(training.history['val_loss'])\n",
    "#plt.show()"
   ]
  },
  {
   "cell_type": "code",
   "execution_count": 357,
   "metadata": {},
   "outputs": [
    {
     "name": "stdout",
     "output_type": "stream",
     "text": [
      "Creating data:\n",
      "0\n",
      "10\n",
      "20\n",
      "30\n",
      "40\n",
      "50\n",
      "60\n",
      "70\n",
      "80\n",
      "90\n",
      "100\n",
      "110\n",
      "120\n",
      "130\n",
      "140\n",
      "150\n",
      "160\n",
      "170\n",
      "180\n",
      "190\n",
      "200\n",
      "210\n",
      "220\n",
      "230\n",
      "240\n",
      "250\n",
      "260\n",
      "270\n",
      "280\n",
      "290\n"
     ]
    }
   ],
   "source": [
    "[X_test, Y_test] = generate_test_set_regression()"
   ]
  },
  {
   "cell_type": "code",
   "execution_count": 358,
   "metadata": {},
   "outputs": [],
   "source": [
    "#Reshape X_test and normalize Y_test\n",
    "X_test = X_test.reshape([-1, 72,72,1])\n",
    "Y_test = normalize(Y_test)"
   ]
  },
  {
   "cell_type": "code",
   "execution_count": 359,
   "metadata": {},
   "outputs": [],
   "source": [
    "#Predict and normalize\n",
    "y_pred = model_r.predict(X_test)\n",
    "y_pred = normalize(y_pred)"
   ]
  },
  {
   "cell_type": "code",
   "execution_count": 360,
   "metadata": {},
   "outputs": [
    {
     "name": "stdout",
     "output_type": "stream",
     "text": [
      "300/300 [==============================] - 2s 8ms/step\n"
     ]
    },
    {
     "data": {
      "text/plain": [
       "[0.035122608145078026, 0.23506258348623912]"
      ]
     },
     "execution_count": 360,
     "metadata": {},
     "output_type": "execute_result"
    }
   ],
   "source": [
    "#Evaluate the model\n",
    "model_r.evaluate(X_test, Y_test)"
   ]
  },
  {
   "cell_type": "code",
   "execution_count": 373,
   "metadata": {},
   "outputs": [
    {
     "data": {
      "image/png": "[encoded data removed]",
      "text/plain": [
       "<Figure size 360x360 with 1 Axes>"
      ]
     },
     "metadata": {},
     "output_type": "display_data"
    }
   ],
   "source": [
    "#Visualise the prediction\n",
    "visualize_prediction(X_test[100], y_pred[100])"
   ]
  },
  {
   "cell_type": "markdown",
   "metadata": {},
   "source": [
    "# 7 Image Denoising"
   ]
  },
  {
   "cell_type": "code",
   "execution_count": 177,
   "metadata": {},
   "outputs": [],
   "source": [
    "#Generate pair of images, one with noise and one without\n",
    "def generate_a_drawing_n(figsize, U, V, noise=0.0):\n",
    "    fig = plt.figure(figsize=(figsize,figsize))\n",
    "    ax = plt.subplot(111)\n",
    "    plt.axis('Off')\n",
    "    ax.set_xlim(0,figsize)\n",
    "    ax.set_ylim(0,figsize)\n",
    "    ax.fill(U, V, \"k\")\n",
    "    fig.canvas.draw()\n",
    "    imdata = np.frombuffer(fig.canvas.tostring_rgb(), dtype=np.uint8)[::3].astype(np.float32)\n",
    "    imdata_n = imdata + noise * np.random.random(imdata.size)\n",
    "    plt.close(fig)\n",
    "    return imdata_n, imdata\n",
    "\n",
    "def generate_a_rectangle_n(free_location=False):\n",
    "    noise = np.random.randint(0,100) #Make some noise\n",
    "    figsize = 1.0    \n",
    "    U = np.zeros(4)\n",
    "    V = np.zeros(4)\n",
    "    if free_location:\n",
    "        corners = np.random.random(4)\n",
    "        top = max(corners[0], corners[1])\n",
    "        bottom = min(corners[0], corners[1])\n",
    "        left = min(corners[2], corners[3])\n",
    "        right = max(corners[2], corners[3])\n",
    "    else:\n",
    "        side = (0.3 + 0.7 * np.random.random()) * figsize\n",
    "        top = figsize/2 + side/2\n",
    "        bottom = figsize/2 - side/2\n",
    "        left = bottom\n",
    "        right = top\n",
    "    U[0] = U[1] = top\n",
    "    U[2] = U[3] = bottom\n",
    "    V[0] = V[3] = left\n",
    "    V[1] = V[2] = right\n",
    "    return generate_a_drawing_n(figsize, U, V, noise)\n",
    "\n",
    "\n",
    "def generate_a_disk_n(free_location=False):\n",
    "    noise = np.random.randint(0,100) #Make some noise\n",
    "    figsize = 1.0\n",
    "    if free_location:\n",
    "        center = np.random.random(2)\n",
    "    else:\n",
    "        center = (figsize/2, figsize/2)\n",
    "    radius = (0.3 + 0.7 * np.random.random()) * figsize/2\n",
    "    N = 50\n",
    "    U = np.zeros(N)\n",
    "    V = np.zeros(N)\n",
    "    i = 0\n",
    "    for t in np.linspace(0, 2*np.pi, N):\n",
    "        U[i] = center[0] + np.cos(t) * radius\n",
    "        V[i] = center[1] + np.sin(t) * radius\n",
    "        i = i + 1\n",
    "    return generate_a_drawing_n(figsize, U, V, noise)\n",
    "\n",
    "def generate_a_triangle_n(free_location=False):\n",
    "    noise = np.random.randint(0,100) #Make some noise\n",
    "    figsize = 1.0\n",
    "    if free_location:\n",
    "        U = np.random.random(3)\n",
    "        V = np.random.random(3)\n",
    "    else:\n",
    "        size = (0.3 + 0.7 * np.random.random())*figsize/2\n",
    "        middle = figsize/2\n",
    "        U = (middle, middle+size, middle-size)\n",
    "        V = (middle+size, middle-size, middle-size)\n",
    "    imdata = generate_a_drawing_n(figsize, U, V, noise)\n",
    "    return [imdata, [U[0], V[0], U[1], V[1], U[2], V[2]]]\n",
    "\n",
    "def generate_dataset_classification_n(nb_samples, free_location=False):\n",
    "    noise = np.random.randint(0,100) #Make some noise\n",
    "    # Getting im_size:\n",
    "    im_size = generate_a_rectangle().shape[0]\n",
    "    X = np.zeros([nb_samples,2,im_size])\n",
    "    Y = np.zeros(nb_samples)\n",
    "    print('Creating data:')\n",
    "    for i in range(nb_samples):\n",
    "        if i % 10 == 0:\n",
    "            print(i)\n",
    "        category = np.random.randint(3)\n",
    "        if category == 0:\n",
    "            X[i] = generate_a_rectangle_n(free_location)\n",
    "        elif category == 1: \n",
    "            X[i] = generate_a_disk_n(free_location)\n",
    "        else:\n",
    "            [X[i], V] = generate_a_triangle_n(free_location)\n",
    "        Y[i] = category\n",
    "    X = (X + noise) / (255 + 2 * noise)\n",
    "    return [X, Y]"
   ]
  },
  {
   "cell_type": "code",
   "execution_count": 194,
   "metadata": {},
   "outputs": [
    {
     "name": "stdout",
     "output_type": "stream",
     "text": [
      "Creating data:\n",
      "0\n",
      "10\n",
      "20\n",
      "30\n",
      "40\n",
      "50\n",
      "60\n",
      "70\n",
      "80\n",
      "90\n",
      "100\n",
      "110\n",
      "120\n",
      "130\n",
      "140\n",
      "150\n",
      "160\n",
      "170\n",
      "180\n",
      "190\n",
      "200\n",
      "210\n",
      "220\n",
      "230\n",
      "240\n",
      "250\n",
      "260\n",
      "270\n",
      "280\n",
      "290\n",
      "300\n",
      "310\n",
      "320\n",
      "330\n",
      "340\n",
      "350\n",
      "360\n",
      "370\n",
      "380\n",
      "390\n",
      "400\n",
      "410\n",
      "420\n",
      "430\n",
      "440\n",
      "450\n",
      "460\n",
      "470\n",
      "480\n",
      "490\n",
      "500\n",
      "510\n",
      "520\n",
      "530\n",
      "540\n",
      "550\n",
      "560\n",
      "570\n",
      "580\n",
      "590\n",
      "600\n",
      "610\n",
      "620\n",
      "630\n",
      "640\n",
      "650\n",
      "660\n",
      "670\n",
      "680\n",
      "690\n",
      "700\n",
      "710\n",
      "720\n",
      "730\n",
      "740\n",
      "750\n",
      "760\n",
      "770\n",
      "780\n",
      "790\n",
      "800\n",
      "810\n",
      "820\n",
      "830\n",
      "840\n",
      "850\n",
      "860\n",
      "870\n",
      "880\n",
      "890\n",
      "900\n",
      "910\n",
      "920\n",
      "930\n",
      "940\n",
      "950\n",
      "960\n",
      "970\n",
      "980\n",
      "990\n"
     ]
    }
   ],
   "source": [
    "#Generate the training set\n",
    "training, same = generate_dataset_classification_n(1000)"
   ]
  },
  {
   "cell_type": "code",
   "execution_count": 195,
   "metadata": {},
   "outputs": [],
   "source": [
    "#Divide into training and testing \n",
    "X_train = training[:,0]\n",
    "Y_train = training[:,1]\n",
    "\n",
    "#Reshape to 4 dimensions\n",
    "X_train = X_train.reshape(-1, 72,72,1)\n",
    "Y_train = Y_train.reshape(-1, 72,72,1)"
   ]
  },
  {
   "cell_type": "code",
   "execution_count": 207,
   "metadata": {},
   "outputs": [
    {
     "name": "stdout",
     "output_type": "stream",
     "text": [
      "Train on 800 samples, validate on 200 samples\n",
      "Epoch 1/30\n",
      "800/800 [==============================] - 33s 41ms/step - loss: 0.6723 - val_loss: 0.6108\n",
      "Epoch 2/30\n",
      "800/800 [==============================] - 23s 29ms/step - loss: 0.5934 - val_loss: 0.5932\n",
      "Epoch 3/30\n",
      "800/800 [==============================] - 24s 31ms/step - loss: 0.5863 - val_loss: 0.5730\n",
      "Epoch 4/30\n",
      "800/800 [==============================] - 23s 29ms/step - loss: 0.5736 - val_loss: 0.5659\n",
      "Epoch 5/30\n",
      "800/800 [==============================] - 22s 28ms/step - loss: 0.5613 - val_loss: 0.5538\n",
      "Epoch 6/30\n",
      "800/800 [==============================] - 24s 30ms/step - loss: 0.5479 - val_loss: 0.5357\n",
      "Epoch 7/30\n",
      "800/800 [==============================] - 27s 34ms/step - loss: 0.5283 - val_loss: 0.5116\n",
      "Epoch 8/30\n",
      "800/800 [==============================] - 30s 38ms/step - loss: 0.5067 - val_loss: 0.4953\n",
      "Epoch 9/30\n",
      "800/800 [==============================] - 24s 30ms/step - loss: 0.4921 - val_loss: 0.4839\n",
      "Epoch 10/30\n",
      "800/800 [==============================] - 23s 28ms/step - loss: 0.4791 - val_loss: 0.4705\n",
      "Epoch 11/30\n",
      "800/800 [==============================] - 23s 29ms/step - loss: 0.4679 - val_loss: 0.4661\n",
      "Epoch 12/30\n",
      "800/800 [==============================] - 25s 31ms/step - loss: 0.4632 - val_loss: 0.4612\n",
      "Epoch 13/30\n",
      "800/800 [==============================] - 28s 35ms/step - loss: 0.4601 - val_loss: 0.4590\n",
      "Epoch 14/30\n",
      "800/800 [==============================] - 26s 33ms/step - loss: 0.4589 - val_loss: 0.4581\n",
      "Epoch 15/30\n",
      "800/800 [==============================] - 26s 32ms/step - loss: 0.4580 - val_loss: 0.4574\n",
      "Epoch 16/30\n",
      "800/800 [==============================] - 27s 34ms/step - loss: 0.4575 - val_loss: 0.4572\n",
      "Epoch 17/30\n",
      "800/800 [==============================] - 22s 28ms/step - loss: 0.4572 - val_loss: 0.4571\n",
      "Epoch 18/30\n",
      "800/800 [==============================] - 23s 29ms/step - loss: 0.4568 - val_loss: 0.4573\n",
      "Epoch 19/30\n",
      "800/800 [==============================] - 23s 29ms/step - loss: 0.4566 - val_loss: 0.4560\n",
      "Epoch 20/30\n",
      "800/800 [==============================] - 26s 33ms/step - loss: 0.4562 - val_loss: 0.4557\n",
      "Epoch 21/30\n",
      "800/800 [==============================] - 26s 33ms/step - loss: 0.4557 - val_loss: 0.4555\n",
      "Epoch 22/30\n",
      "800/800 [==============================] - 23s 29ms/step - loss: 0.4552 - val_loss: 0.4552\n",
      "Epoch 23/30\n",
      "800/800 [==============================] - 28s 35ms/step - loss: 0.4549 - val_loss: 0.4550\n",
      "Epoch 24/30\n",
      "800/800 [==============================] - 26s 33ms/step - loss: 0.4547 - val_loss: 0.4548\n",
      "Epoch 25/30\n",
      "800/800 [==============================] - 29s 36ms/step - loss: 0.4546 - val_loss: 0.4546\n",
      "Epoch 26/30\n",
      "800/800 [==============================] - 25s 31ms/step - loss: 0.4544 - val_loss: 0.4548\n",
      "Epoch 27/30\n",
      "800/800 [==============================] - 25s 31ms/step - loss: 0.4543 - val_loss: 0.4543\n",
      "Epoch 28/30\n",
      "800/800 [==============================] - 25s 31ms/step - loss: 0.4541 - val_loss: 0.4542\n",
      "Epoch 29/30\n",
      "800/800 [==============================] - 25s 32ms/step - loss: 0.4539 - val_loss: 0.4544\n",
      "Epoch 30/30\n",
      "800/800 [==============================] - 22s 28ms/step - loss: 0.4541 - val_loss: 0.4537\n"
     ]
    },
    {
     "data": {
      "text/plain": [
       "<keras.callbacks.History at 0x1c5120e4400>"
      ]
     },
     "execution_count": 207,
     "metadata": {},
     "output_type": "execute_result"
    }
   ],
   "source": [
    "#Construct the model with several convolution and pooling layers\n",
    "rip = Input(shape=(72, 72, 1))\n",
    "\n",
    "temp = Conv2D(32, (3, 3), activation='relu', padding='same')(rip)\n",
    "temp = MaxPooling2D((2, 2), padding='same')(temp)\n",
    "temp = Conv2D(32, (3, 3), activation='relu', padding='same')(temp)\n",
    "temp = MaxPooling2D((2, 2), padding='same')(temp)\n",
    "temp = Conv2D(32, (3, 3), activation='relu', padding='same')(temp)\n",
    "temp = UpSampling2D((2, 2))(temp)\n",
    "temp = Conv2D(32, (3, 3), activation='relu', padding='same')(temp)\n",
    "temp = UpSampling2D((2, 2))(temp)\n",
    "\n",
    "output = Conv2D(1, (3, 3), activation='sigmoid', padding='same')(temp)"
   ]
  },
  {
   "cell_type": "code",
   "execution_count": null,
   "metadata": {},
   "outputs": [],
   "source": [
    "#Compile and fit the model\n",
    "model_denoising = Model(rip, output)\n",
    "model_denoising.compile(optimizer=\"adam\", loss='binary_crossentropy')\n",
    "model_denoising.fit(X_train, Y_train, epochs=20, batch_size=128,validation_split=0.2, callbacks = [early_stopping])"
   ]
  },
  {
   "cell_type": "code",
   "execution_count": 208,
   "metadata": {},
   "outputs": [
    {
     "name": "stdout",
     "output_type": "stream",
     "text": [
      "Creating data:\n",
      "0\n"
     ]
    }
   ],
   "source": [
    "#generate test set\n",
    "testing, same = generate_dataset_classification_n(5, 20)"
   ]
  },
  {
   "cell_type": "code",
   "execution_count": null,
   "metadata": {},
   "outputs": [],
   "source": [
    "#prepare test set and reshape\n",
    "X_test = testing[:,0]\n",
    "Y_test = testing[:,1]\n",
    "X_test = X_test.reshape(-1,72,72,1)\n",
    "Y_test = Y_test.reshape(-1,72,72,1)"
   ]
  },
  {
   "cell_type": "code",
   "execution_count": 209,
   "metadata": {},
   "outputs": [
    {
     "data": {
      "image/png": "[encoded data removed]",
      "text/plain": [
       "<Figure size 720x1440 with 3 Axes>"
      ]
     },
     "metadata": {},
     "output_type": "display_data"
    },
    {
     "data": {
      "image/png": "[encoded data removed]",
      "text/plain": [
       "<Figure size 720x1440 with 3 Axes>"
      ]
     },
     "metadata": {},
     "output_type": "display_data"
    },
    {
     "data": {
      "image/png": "[encoded data removed]",
      "text/plain": [
       "<Figure size 720x1440 with 3 Axes>"
      ]
     },
     "metadata": {},
     "output_type": "display_data"
    },
    {
     "data": {
      "image/png": "[encoded data removed]",
      "text/plain": [
       "<Figure size 720x1440 with 3 Axes>"
      ]
     },
     "metadata": {},
     "output_type": "display_data"
    },
    {
     "data": {
      "image/png": "[encoded data removed]",
      "text/plain": [
       "<Figure size 720x1440 with 3 Axes>"
      ]
     },
     "metadata": {},
     "output_type": "display_data"
    }
   ],
   "source": [
    "#Plot the images\n",
    "for j in range(5):\n",
    "  fig = plt.figure(figsize = (10,20))\n",
    "  fig.tight_layout()\n",
    "    \n",
    "  ax = plt.subplot(1, 3, 1)\n",
    "  plt.imshow(X_test[j].reshape((72,72)),cmap='gray')\n",
    "  plt.title(\"Image noise\")\n",
    "\n",
    "  ax = plt.subplot(1, 3, 2)\n",
    "  plt.imshow(Y_test[j].reshape((IMAGE_SIZE,IMAGE_SIZE)),cmap='gray')\n",
    "  plt.title(\"Image no noise\")\n",
    "\n",
    "  ax = plt.subplot(1, 3, 3)\n",
    "  plt.imshow((model_denoising.predict(X_test[j].reshape((-1,72,72,1)))).reshape((72,72)),cmap='gray')\n",
    "  plt.title(\"Image denoising\")\n",
    "\n"
   ]
  }
 ],
 "metadata": {
  "kernelspec": {
   "display_name": "Python 3",
   "language": "python",
   "name": "python3"
  },
  "language_info": {
   "codemirror_mode": {
    "name": "ipython",
    "version": 3
   },
   "file_extension": ".py",
   "mimetype": "text/x-python",
   "name": "python",
   "nbconvert_exporter": "python",
   "pygments_lexer": "ipython3",
   "version": "3.6.5"
  }
 },
 "nbformat": 4,
 "nbformat_minor": 2
}
